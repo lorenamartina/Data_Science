{
 "cells": [
  {
   "cell_type": "markdown",
   "id": "3e8d4679-389b-4fc4-a671-450ba4af61e6",
   "metadata": {
    "tags": []
   },
   "source": [
    "# Study to observe the behavior of precipitation averages between Natal and Salvador (1961-2015)"
   ]
  },
  {
   "cell_type": "markdown",
   "id": "0933d075-7b03-4a64-bcca-206b4cd4d62d",
   "metadata": {},
   "source": [
    "# Importing libraries"
   ]
  },
  {
   "cell_type": "code",
   "execution_count": 244,
   "id": "770445a0-c69d-4af5-943d-655ed2c0e15e",
   "metadata": {},
   "outputs": [],
   "source": [
    "import pandas as pd\n",
    "import statistics as sts\n",
    "import matplotlib.pyplot as plt\n",
    "import seaborn as srn\n",
    "import scipy.stats as stats\n",
    "from scipy.stats import f_oneway\n"
   ]
  },
  {
   "cell_type": "markdown",
   "id": "6c9cd1de-686e-4ed2-9f35-45e6d0ac5414",
   "metadata": {},
   "source": [
    "# Converting a .txt in .csv"
   ]
  },
  {
   "cell_type": "code",
   "execution_count": 64,
   "id": "74c3817f-069a-4238-b49d-3271435b15b7",
   "metadata": {},
   "outputs": [],
   "source": [
    "file= pd.read_csv(\"capitais.txt\")\n",
    "file.to_csv('capitais.csv', index = None)"
   ]
  },
  {
   "cell_type": "markdown",
   "id": "13717e21-eea9-4acf-92c3-b7a407609b0c",
   "metadata": {},
   "source": [
    "# Loading and viewing data"
   ]
  },
  {
   "cell_type": "code",
   "execution_count": 358,
   "id": "df13ad49-2a1e-43f2-bcb6-a7a7cb11a1f0",
   "metadata": {},
   "outputs": [
    {
     "data": {
      "text/html": [
       "<div>\n",
       "<style scoped>\n",
       "    .dataframe tbody tr th:only-of-type {\n",
       "        vertical-align: middle;\n",
       "    }\n",
       "\n",
       "    .dataframe tbody tr th {\n",
       "        vertical-align: top;\n",
       "    }\n",
       "\n",
       "    .dataframe thead th {\n",
       "        text-align: right;\n",
       "    }\n",
       "</style>\n",
       "<table border=\"1\" class=\"dataframe\">\n",
       "  <thead>\n",
       "    <tr style=\"text-align: right;\">\n",
       "      <th></th>\n",
       "      <th>Year</th>\n",
       "      <th>Month</th>\n",
       "      <th>Natal</th>\n",
       "      <th>Salvador</th>\n",
       "    </tr>\n",
       "  </thead>\n",
       "  <tbody>\n",
       "    <tr>\n",
       "      <th>count</th>\n",
       "      <td>660.000000</td>\n",
       "      <td>660.000000</td>\n",
       "      <td>660.000000</td>\n",
       "      <td>660.000000</td>\n",
       "    </tr>\n",
       "    <tr>\n",
       "      <th>mean</th>\n",
       "      <td>1988.000000</td>\n",
       "      <td>6.500000</td>\n",
       "      <td>130.183182</td>\n",
       "      <td>165.815909</td>\n",
       "    </tr>\n",
       "    <tr>\n",
       "      <th>std</th>\n",
       "      <td>15.886548</td>\n",
       "      <td>3.454671</td>\n",
       "      <td>129.557720</td>\n",
       "      <td>131.804467</td>\n",
       "    </tr>\n",
       "    <tr>\n",
       "      <th>min</th>\n",
       "      <td>1961.000000</td>\n",
       "      <td>1.000000</td>\n",
       "      <td>0.000000</td>\n",
       "      <td>3.200000</td>\n",
       "    </tr>\n",
       "    <tr>\n",
       "      <th>25%</th>\n",
       "      <td>1974.000000</td>\n",
       "      <td>3.750000</td>\n",
       "      <td>29.000000</td>\n",
       "      <td>70.500000</td>\n",
       "    </tr>\n",
       "    <tr>\n",
       "      <th>50%</th>\n",
       "      <td>1988.000000</td>\n",
       "      <td>6.500000</td>\n",
       "      <td>86.700000</td>\n",
       "      <td>136.800000</td>\n",
       "    </tr>\n",
       "    <tr>\n",
       "      <th>75%</th>\n",
       "      <td>2002.000000</td>\n",
       "      <td>9.250000</td>\n",
       "      <td>197.550000</td>\n",
       "      <td>221.450000</td>\n",
       "    </tr>\n",
       "    <tr>\n",
       "      <th>max</th>\n",
       "      <td>2015.000000</td>\n",
       "      <td>12.000000</td>\n",
       "      <td>789.000000</td>\n",
       "      <td>889.800000</td>\n",
       "    </tr>\n",
       "  </tbody>\n",
       "</table>\n",
       "</div>"
      ],
      "text/plain": [
       "              Year       Month       Natal    Salvador\n",
       "count   660.000000  660.000000  660.000000  660.000000\n",
       "mean   1988.000000    6.500000  130.183182  165.815909\n",
       "std      15.886548    3.454671  129.557720  131.804467\n",
       "min    1961.000000    1.000000    0.000000    3.200000\n",
       "25%    1974.000000    3.750000   29.000000   70.500000\n",
       "50%    1988.000000    6.500000   86.700000  136.800000\n",
       "75%    2002.000000    9.250000  197.550000  221.450000\n",
       "max    2015.000000   12.000000  789.000000  889.800000"
      ]
     },
     "execution_count": 3,
     "metadata": {},
     "output_type": "execute_result"
    }
   ],
   "source": [
    "capitals= pd.read_csv('capitais.csv', sep = \"\\t\") \n",
    "capitals.head()\n",
    "capitals.describe()"
   ]
  },
  {
   "cell_type": "markdown",
   "id": "edc312d5-0a45-4b4c-9a37-6036b1eb0ade",
   "metadata": {},
   "source": [
    "The data were grouped by seasons\n",
    "-> The data will be divided into seasons, as they are subdivisions based on weather patterns that represent periods of the year."
   ]
  },
  {
   "cell_type": "code",
   "execution_count": 232,
   "id": "8396d9a7-bfe7-4638-917b-6cea7f926fca",
   "metadata": {},
   "outputs": [],
   "source": [
    "# HS: summer(DJF), fall(MAM), winter(JJA) e spring(SON)\n",
    "summer= capitals.loc[(capitals['Month'] <=2) | (capitals['Month'] == 12)]\n",
    "fall = capitals.loc[(capitals['Month'] ==3) | (capitals['Month'] ==4) | (capitals['Month'] ==5)]\n",
    "winter = capitals.loc[(capitals['Month'] ==6) | (capitals['Month'] ==7) | (capitals['Month'] ==8)]\n",
    "spring = capitals.loc[(capitals['Month'] ==9) | (capitals['Month'] ==10) | (capitals['Month'] ==11)]"
   ]
  },
  {
   "cell_type": "markdown",
   "id": "e66935f4-2438-440c-ab81-bf392e72ff24",
   "metadata": {
    "tags": []
   },
   "source": [
    "# Exploratory Data Analysis"
   ]
  },
  {
   "cell_type": "code",
   "execution_count": 27,
   "id": "a475f9b0-2290-4051-8e6b-661ea54b6482",
   "metadata": {},
   "outputs": [
    {
     "data": {
      "text/plain": [
       "Text(0.5, 1.0, 'Distribution of values - Natal')"
      ]
     },
     "execution_count": 27,
     "metadata": {},
     "output_type": "execute_result"
    },
    {
     "data": {
      "image/png": "[encoded data removed]",
      "text/plain": [
       "<Figure size 360x360 with 1 Axes>"
      ]
     },
     "metadata": {
      "needs_background": "light"
     },
     "output_type": "display_data"
    }
   ],
   "source": [
    "srn.displot(capitals.iloc[:,2], bins = [0, 50, 100, 150, 200, 250, 300, 350, 400, 450, 500, 550, 600, 650, 700, 850, 900], color='red',  kde=True)\n",
    "plt.xlabel('Precipitation')\n",
    "plt.title('Distribution of values - Natal')"
   ]
  },
  {
   "cell_type": "code",
   "execution_count": 28,
   "id": "54b466c3-b581-491d-923f-978c91f4e99a",
   "metadata": {},
   "outputs": [
    {
     "data": {
      "text/plain": [
       "Text(0.5, 1.0, 'Distribution of values - Salvador')"
      ]
     },
     "execution_count": 28,
     "metadata": {},
     "output_type": "execute_result"
    },
    {
     "data": {
      "image/png": "[encoded data removed]",
      "text/plain": [
       "<Figure size 360x360 with 1 Axes>"
      ]
     },
     "metadata": {
      "needs_background": "light"
     },
     "output_type": "display_data"
    }
   ],
   "source": [
    "srn.displot(capitals.iloc[:,3], bins = [0, 50, 100, 150, 200, 250, 300, 350, 400, 450, 500, 550, 600, 650, 700, 850, 900], color='blue',  kde=True)\n",
    "plt.xlabel('Precipitation')\n",
    "plt.title('Distribution of values - Salvador')"
   ]
  },
  {
   "cell_type": "markdown",
   "id": "36307775-134a-4854-85d4-abfe4db6fc80",
   "metadata": {},
   "source": [
    "From the histograms of the capitals, it can be observed that:<br>\n",
    "\n",
    "-> Natal presents greater distribution in values close to zero of precipitation;<br>\n",
    "\n",
    "-> Salvador presents greater distribution of precipitation, mainly in higher values;<br>\n",
    "\n",
    "-> Values above 400 mm/month may be outliers;"
   ]
  },
  {
   "cell_type": "code",
   "execution_count": 13,
   "id": "7a62e71c-2ab8-41e3-b862-2011421dc953",
   "metadata": {},
   "outputs": [
    {
     "data": {
      "image/png": "[encoded data removed]",
      "text/plain": [
       "<Figure size 432x288 with 2 Axes>"
      ]
     },
     "metadata": {
      "needs_background": "light"
     },
     "output_type": "display_data"
    }
   ],
   "source": [
    "data_natal=[summer['Natal'], fall['Natal'], winter['Natal'], spring['Natal']]\n",
    "data_salvador=[summer['Salvador'], fall['Salvador'], winter['Salvador'], spring['Salvador']]\n",
    "\n",
    "plt.figure()\n",
    "plt.subplot(1, 2, 1)\n",
    "srn.boxplot(data=data_natal, palette=\"pastel\", showmeans=True)\n",
    "plt.xlabel(\"Season (S, F, W, S)\")\n",
    "plt.ylabel(\"Precipitation (mm/month)\")\n",
    "plt.title(\"Rainfall in Natal\")\n",
    "plt.subplot(1,2,2)\n",
    "srn.boxplot(data=data_salvador, palette=\"pastel\", showmeans=True)\n",
    "plt.xlabel(\"Season (S, F, W, S)\")\n",
    "plt.ylabel(\"Precipitation (mm/month)\")\n",
    "plt.title(\"Rainfall in Salvador\")\n",
    "plt.tight_layout()"
   ]
  },
  {
   "cell_type": "markdown",
   "id": "141caec1-abda-484e-ab0c-9d3222590bf1",
   "metadata": {},
   "source": [
    "By the boxplots of Natal and Salvador:<br>\n",
    "-> Salvador has higher mean precipitation values than Natal in all seasons, except in winter;<br>\n",
    "-> Natal presents greater data dispersion during the winter, while Salvador in the summer;<br>\n",
    "-> Both capitals have outliers."
   ]
  },
  {
   "cell_type": "markdown",
   "id": "2a408e68-b973-4d39-8e8a-6714c3edfb77",
   "metadata": {},
   "source": [
    "# Are the average rainfall in the capitals the same?"
   ]
  },
  {
   "cell_type": "markdown",
   "id": "f5769491-40a2-49fa-b82f-4b49deb52f3f",
   "metadata": {},
   "source": [
    "To answer this question, Analysis of Variance (ANOVA) will be applied for the seasons and for the entire period (1961-2015). ANOVA is a statistical formula used to compare the variances between the medians (or means) of different groups.<br>\n",
    "> Null hypothesis (H0): Groups means are equal (no variation in means of groups); <br>\n",
    "> Alternative hypothesis (H1): At least, one group mean is different from other groups;<br>\n",
    "> P-value 5% "
   ]
  },
  {
   "cell_type": "code",
   "execution_count": 231,
   "id": "2f2bda9b-3e7f-4060-abf0-c097d56068be",
   "metadata": {},
   "outputs": [
    {
     "data": {
      "text/plain": [
       "F_onewayResult(statistic=13.884040219275331, pvalue=0.00022890255516155514)"
      ]
     },
     "execution_count": 231,
     "metadata": {},
     "output_type": "execute_result"
    }
   ],
   "source": [
    "f_oneway(summer['Natal'],summer['Salvador'])"
   ]
  },
  {
   "cell_type": "code",
   "execution_count": 233,
   "id": "63efcc19-cb6f-44da-9d86-cf607f5111d4",
   "metadata": {},
   "outputs": [
    {
     "data": {
      "text/plain": [
       "F_onewayResult(statistic=8.826216893083492, pvalue=0.0031885405048886774)"
      ]
     },
     "execution_count": 233,
     "metadata": {},
     "output_type": "execute_result"
    }
   ],
   "source": [
    "f_oneway(fall['Natal'],fall['Salvador'])"
   ]
  },
  {
   "cell_type": "code",
   "execution_count": 235,
   "id": "aa754126-a47a-4e24-a076-28640a30a4b0",
   "metadata": {},
   "outputs": [
    {
     "data": {
      "text/plain": [
       "F_onewayResult(statistic=1.0981319401798166, pvalue=0.29544798975416686)"
      ]
     },
     "execution_count": 235,
     "metadata": {},
     "output_type": "execute_result"
    }
   ],
   "source": [
    "f_oneway(winter['Natal'],winter['Salvador'])"
   ]
  },
  {
   "cell_type": "code",
   "execution_count": 236,
   "id": "7ee75b3e-de23-4888-8ffb-3f77b0ee4e82",
   "metadata": {},
   "outputs": [
    {
     "data": {
      "text/plain": [
       "F_onewayResult(statistic=129.95105294377547, pvalue=1.3896808249982692e-25)"
      ]
     },
     "execution_count": 236,
     "metadata": {},
     "output_type": "execute_result"
    }
   ],
   "source": [
    "f_oneway(spring['Natal'],spring['Salvador'])"
   ]
  },
  {
   "cell_type": "code",
   "execution_count": 243,
   "id": "9dee261e-150f-4efc-8f72-a6ad645528ac",
   "metadata": {},
   "outputs": [
    {
     "data": {
      "text/plain": [
       "F_onewayResult(statistic=24.53321448452392, pvalue=8.250443535258897e-07)"
      ]
     },
     "execution_count": 243,
     "metadata": {},
     "output_type": "execute_result"
    }
   ],
   "source": [
    "f_oneway(capitals['Natal'],capitals['Salvador'])"
   ]
  },
  {
   "cell_type": "markdown",
   "id": "ef44749d-2c0a-463c-a21c-cd633e0c86a4",
   "metadata": {},
   "source": [
    "At a significance level of 5% (0.05), H0 was rejected in summer and autumn, that is, the average precipitation of Natal and Salvador are significantly different. While in winter, spring and for the entire time series, H0 is accepted."
   ]
  },
  {
   "cell_type": "markdown",
   "id": "5ee0b6b8-b15f-4a22-b20f-8e87b7d21a01",
   "metadata": {},
   "source": [
    "# Does the residuals have a normal distribution?"
   ]
  },
  {
   "cell_type": "markdown",
   "id": "ab9b0691-f7ed-4981-b6ea-ccf5d334565c",
   "metadata": {},
   "source": [
    "To verify if the data distribution is normal, a probability plot and the Shapiro Wilk test will be used."
   ]
  },
  {
   "cell_type": "code",
   "execution_count": 341,
   "id": "4bf78622-8d48-46e7-9e2c-c64f4ee54e88",
   "metadata": {},
   "outputs": [
    {
     "data": {
      "image/png": "[encoded data removed]",
      "text/plain": [
       "<Figure size 432x288 with 1 Axes>"
      ]
     },
     "metadata": {
      "needs_background": "light"
     },
     "output_type": "display_data"
    }
   ],
   "source": [
    "fig, ax =plt.subplots()\n",
    "stats.probplot(capitals[capitals.columns[2]].values, plot=plt, dist='norm', fit= False)\n",
    "stats.probplot(capitals[capitals.columns[3]].values, plot=plt, dist='norm', fit= False)\n",
    "\n",
    "# Change colour of scatter\n",
    "\n",
    "ax.get_lines()[0].set_markerfacecolor('C1')\n",
    "ax.get_lines()[0].set_markersize(5.0)\n",
    "\n",
    "ax.get_lines()[1].set_markerfacecolor('C0')\n",
    "ax.get_lines()[1].set_markersize(5.0)\n",
    "\n",
    "\n",
    "# Add on y=x line\n",
    "ax.plot([-3,3],[0,800], c='C3')\n",
    "plt.title(\"Probability Plot\")\n",
    "plt.legend(['Natal','Salvador'],loc='upper left')\n",
    "plt.show()"
   ]
  },
  {
   "cell_type": "markdown",
   "id": "496d1a75-52f9-4255-ad0c-76817b2c33fb",
   "metadata": {},
   "source": [
    "Null hypothesis (H0): residuals follow a normal distribution;<br>\n",
    "Alternative hypothesis (H1) that they do not follow a normal distribution."
   ]
  },
  {
   "cell_type": "code",
   "execution_count": 347,
   "id": "c25fd648-87f5-441f-9dc2-c745483edd69",
   "metadata": {
    "tags": []
   },
   "outputs": [
    {
     "data": {
      "text/plain": [
       "ShapiroResult(statistic=0.8505597114562988, pvalue=1.768893967782831e-24)"
      ]
     },
     "execution_count": 347,
     "metadata": {},
     "output_type": "execute_result"
    }
   ],
   "source": [
    "shapiro_natal=stats.shapiro(capitals['Natal'])\n",
    "shapiro_natal"
   ]
  },
  {
   "cell_type": "code",
   "execution_count": 354,
   "id": "ce1c0526-4135-4968-90c9-6c9c4ae2ec40",
   "metadata": {},
   "outputs": [
    {
     "data": {
      "text/plain": [
       "ShapiroResult(statistic=0.8685892820358276, pvalue=4.15048689209214e-23)"
      ]
     },
     "execution_count": 354,
     "metadata": {},
     "output_type": "execute_result"
    }
   ],
   "source": [
    "shapiro_salvador=stats.shapiro(capitals['Salvador'])\n",
    "shapiro_salvador"
   ]
  },
  {
   "cell_type": "markdown",
   "id": "ddbe7e69-dd7d-4724-b31b-5a962feb8191",
   "metadata": {},
   "source": [
    "About the normal distribution of the data:<br>\n",
    "-> From the normal probability plot, it is noted that the variables do not have a normal distribution;<br>\n",
    "\n",
    "->This is confirmed in the Shapiro Wilk test, as the H0 is rejected, indicating that the data do not present a normal distribution. This was expected, since the histograms of precipitation distribution in the capitals were asymmetrical.<br>"
   ]
  },
  {
   "cell_type": "markdown",
   "id": "48e0b1a9-b749-49a6-9099-00ae9ad45f35",
   "metadata": {},
   "source": [
    "# Are the data variances similar?"
   ]
  },
  {
   "cell_type": "markdown",
   "id": "346eee16-31a2-4a61-b8c2-6a9ce5184e85",
   "metadata": {},
   "source": [
    "A Homoscedasticity test will be performed.<br>\n",
    "> Equal variances, also known as homoscedasticity, is when the variances are approximately the same across the samples (i.e., groups);<br>\n",
    "> This test, however, should only be used on normally distributed data. However, in order to just apply the technique, the test will be done, but its results will be disregarded."
   ]
  },
  {
   "cell_type": "code",
   "execution_count": 41,
   "id": "fc8fe2b2-96d3-47ac-96e3-821aaef55eb7",
   "metadata": {},
   "outputs": [
    {
     "data": {
      "text/plain": [
       "BartlettResult(statistic=0.19464307346925777, pvalue=0.6590799992277592)"
      ]
     },
     "execution_count": 41,
     "metadata": {},
     "output_type": "execute_result"
    }
   ],
   "source": [
    "stats.bartlett(capitals['Natal'],capitals['Salvador'])"
   ]
  },
  {
   "cell_type": "markdown",
   "id": "4f99f04b-a297-4e0b-b9ad-244c40aeddb7",
   "metadata": {},
   "source": [
    "Null Hypothesis (H0): the variances are equal across all samples/groups;<br>\n",
    "Alternative Hypothesis (H1):  the variances are not equal across all samples/groups.<br>\n",
    "> By the result of the p-value it can be said that the data have equal variance.\n"
   ]
  },
  {
   "cell_type": "markdown",
   "id": "de3e9978-01ad-4fd0-8be6-c6883139beca",
   "metadata": {},
   "source": [
    "# Results"
   ]
  },
  {
   "cell_type": "markdown",
   "id": "e2f73be8-f047-4305-8a49-ae5da21b05d6",
   "metadata": {},
   "source": [
    "My main objective was to show the behavior of precipitation in the seasons and in the time series for Natal and Salvador. Was found:<br>\n",
    "-> Natal presents greater distribution in values close to zero of precipitation;<br>\n",
    "\n",
    "-> Salvador presents greater distribution of precipitation, mainly in higher values;<br>\n",
    "\n",
    "-> Both distributions are asymmetrical;<br>\n",
    "\n",
    "-> Both have outliers, this can be a consequence of measurement errors;<br>\n",
    "\n",
    "-> Salvador has higher mean precipitation values than Natal in all seasons, except in winter;<br>\n",
    "\n",
    "-> Natal presents greater data dispersion during the winter, while Salvador in the summer;<br>\n",
    "\n",
    "-> At a significance level of 5% (0.05), the average precipitation of Natal and Salvador are significantly different in summer and autum; <br>\n",
    "\n",
    "-> Is noted that the variables do not have a normal distribution;<br>\n",
    "\n",
    "-> Shapiro Wilk test indicate that the data do not present a normal distribution. This was expected, since the histograms of precipitation distribution in the capitals were asymmetrical.<br>"
   ]
  }
 ],
 "metadata": {
  "kernelspec": {
   "display_name": "Python 3 (ipykernel)",
   "language": "python",
   "name": "python3"
  },
  "language_info": {
   "codemirror_mode": {
    "name": "ipython",
    "version": 3
   },
   "file_extension": ".py",
   "mimetype": "text/x-python",
   "name": "python",
   "nbconvert_exporter": "python",
   "pygments_lexer": "ipython3",
   "version": "3.9.12"
  }
 },
 "nbformat": 4,
 "nbformat_minor": 5
}
